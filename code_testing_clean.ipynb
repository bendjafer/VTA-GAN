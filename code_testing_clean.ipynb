{
 "cells": [
  {
   "cell_type": "markdown",
   "id": "230e9b78",
   "metadata": {},
   "source": [
    "# OCR-GAN Video Model Testing\n",
    "\n",
    "This notebook contains essential tests for the OCR-GAN video model with tqdm progress bars."
   ]
  },
  {
   "cell_type": "code",
   "execution_count": null,
   "id": "ca14e61b",
   "metadata": {},
   "outputs": [],
   "source": [
    "# Simple test with progress bars - 2 epochs for quick validation\n",
    "print(\"🚀 Testing OCR-GAN Video Training with Progress Bars 🚀\")\n",
    "print(\"=\" * 60)\n",
    "print(\"Running 2 epochs with progress bars...\")\n",
    "%run train_video.py --model ocr_gan_video --dataset ucsd2 --dataroot data/ucsd2 --num_frames 8 --batchsize 1 --niter 2 --lr 0.0002 --gpu_ids -1 --ngpu 0 --device cpu --name ucsd2_quick_test"
   ]
  },
  {
   "cell_type": "code",
   "execution_count": null,
   "id": "fb72ab0f",
   "metadata": {},
   "outputs": [],
   "source": [
    "# Full training test - more epochs for complete validation\n",
    "print(\"🚀 Full OCR-GAN Video Training Test 🚀\")\n",
    "print(\"=\" * 60)\n",
    "print(\"Running 5 epochs for complete training test...\")\n",
    "%run train_video.py --model ocr_gan_video --dataset ucsd2 --dataroot data/ucsd2 --num_frames 16 --batchsize 1 --niter 5 --lr 0.0002 --gpu_ids -1 --ngpu 0 --device cpu --name ucsd2_full_test"
   ]
  },
  {
   "cell_type": "code",
   "execution_count": null,
   "id": "f9bfbd13",
   "metadata": {},
   "outputs": [],
   "source": [
    "# Test tqdm progress bars functionality\n",
    "import time\n",
    "try:\n",
    "    from tqdm.notebook import tqdm\n",
    "    print(\"✅ Using notebook version of tqdm\")\n",
    "except ImportError:\n",
    "    from tqdm import tqdm\n",
    "    print(\"⚠️ Using standard tqdm (works in terminal)\")\n",
    "\n",
    "print(\"\\nTesting progress bar...\")\n",
    "for i in tqdm(range(10), desc=\"🧪 Testing Progress\"):\n",
    "    time.sleep(0.1)\n",
    "print(\"\\n✅ Progress bar test completed!\")"
   ]
  }
 ],
 "metadata": {
  "language_info": {
   "name": "python"
  }
 },
 "nbformat": 4,
 "nbformat_minor": 5
}
